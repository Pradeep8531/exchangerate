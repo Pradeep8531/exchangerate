{
 "cells": [
  {
   "cell_type": "code",
   "execution_count": 1,
   "id": "3ba80917",
   "metadata": {},
   "outputs": [
    {
     "name": "stdout",
     "output_type": "stream",
     "text": [
      "Enter the start date '[yyyy-mm-dd]' :2022-01-01\n",
      "Enter the end date '[yyyy-mm-dd]' :2022-02-01\n"
     ]
    }
   ],
   "source": [
    "import http.client\n",
    "import json\n",
    "\n",
    "conn = http.client.HTTPSConnection(\"currency-conversion-and-exchange-rates.p.rapidapi.com\")\n",
    "\n",
    "headers = {\n",
    "    'X-RapidAPI-Key': \"8bf6b1dd1emshe95f677573566b7p1fa061jsnc212c734cd58\",\n",
    "    'X-RapidAPI-Host': \"currency-conversion-and-exchange-rates.p.rapidapi.com\"\n",
    "}\n",
    "datefrom = input(\"Enter the start date '[yyyy-mm-dd]' :\")\n",
    "dateend = input(\"Enter the end date '[yyyy-mm-dd]' :\")\n"
   ]
  },
  {
   "cell_type": "code",
   "execution_count": 2,
   "id": "1519501e",
   "metadata": {},
   "outputs": [
    {
     "name": "stdout",
     "output_type": "stream",
     "text": [
      "{'ANG': 2.049808, 'SVC': 9.952132, 'CAD': 1.437255, 'XCD': 3.073193, 'MVR': 17.516294, 'HRK': 7.516973, 'AUD': 1.564485, 'MWK': 925.636767, 'XAG': 0.048844, 'MAD': 10.553142, 'PHP': 57.994806, 'NAD': 18.137898, 'GNF': 10603.881482, 'KES': 128.668442, 'MZN': 72.584422, 'BTN': 84.571125, 'MGA': 4508.782, 'AZN': 1.937662, 'XAU': 0.000622, 'RON': 4.947838, 'CHF': 1.03674, 'EGP': 17.864285, 'BSD': 1.137387, 'TWD': 31.518378, 'GGP': 0.857839, 'LVL': 0.687848, 'MMK': 2022.309337, 'WST': 2.956773, 'ILS': 3.53953, 'BHD': 0.428655, 'GBP': 0.840369, 'TZS': 2622.257729, 'SDG': 497.505305, 'LAK': 12718.971963, 'DJF': 202.093932, 'BYN': 2.908273, 'LBP': 1720.501423, 'RWF': 1154.202605, 'PEN': 4.536646, 'EUR': 1, 'ZMK': 10235.677475, 'RSD': 117.564035, 'INR': 84.733311, 'MUR': 49.57634, 'BWP': 13.373034, 'GEL': 3.519511, 'KMF': 494.516161, 'UZS': 12303.913866, 'RUB': 85.04893, 'CUC': 1.137145, 'BGN': 1.953969, 'JOD': 0.806468, 'NGN': 468.447486, 'BDT': 97.495932, 'PKR': 202.696598, 'BRL': 6.335383, 'KZT': 494.763156, 'CVE': 110.587841, 'HNL': 27.750716, 'NZD': 1.662009, 'ERN': 17.05727, 'NPR': 135.313403, 'ZMW': 18.94874, 'FKP': 0.857839, 'DZD': 157.842186, 'JMD': 175.116336, 'CRC': 730.147918, 'GMD': 59.984864, 'PLN': 4.588727, 'AMD': 546.096265, 'BMD': 1.137145, 'BZD': 2.292658, 'BBD': 2.296476, 'SBD': 9.203967, 'IDR': 16195.225126, 'ALL': 121.277018, 'IQD': 1660.232319, 'BIF': 2278.270857, 'HKD': 8.865304, 'GIP': 0.857839, 'BAM': 1.965137, 'LKR': 230.751407, 'QAR': 4.14039, 'SAR': 4.269042, 'TOP': 2.586555, 'SEK': 10.291223, 'ZAR': 18.138658, 'ARS': 116.773434, 'MYR': 4.749292, 'BYR': 22288.050307, 'KPW': 1023.430793, 'CZK': 24.871929, 'STD': 23536.614386, 'BTC': 2.380531e-05, 'ZWL': 366.160363, 'LSL': 18.137903, 'COP': 4622.871406, 'PAB': 1.137387, 'IRR': 48072.823194, 'NOK': 10.027286, 'OMR': 0.437796, 'CNY': 7.227587, 'XPF': 119.331742, 'AOA': 626.101357, 'SCR': 15.472979, 'MOP': 9.136089, 'XOF': 658.979869, 'XDR': 0.812663, 'NIO': 40.259183, 'ISK': 147.590544, 'VND': 25989.458662, 'VEF': 243156058810.97, 'UYU': 50.746114, 'USD': 1.137145, 'DOP': 65.243765, 'UGX': 4031.995186, 'BOB': 7.842413, 'UAH': 31.030458, 'TTD': 7.725487, 'KGS': 96.434255, 'SGD': 1.533612, 'TND': 3.270207, 'GHS': 6.993888, 'TMT': 3.99138, 'KHR': 4628.182274, 'ETB': 55.891143, 'PGK': 4.008481, 'TJS': 12.851765, 'AED': 4.176782, 'THB': 37.747586, 'LRD': 165.028274, 'CLP': 968.848312, 'KYD': 0.947789, 'SYP': 2857.069671, 'SRD': 23.661765, 'LYD': 5.23515, 'GTQ': 8.77767, 'SLL': 12798.57213, 'SHP': 1.566309, 'IMP': 0.857839, 'FJD': 2.41587, 'PYG': 7825.297573, 'KRW': 1351.929888, 'SZL': 18.13789, 'GYD': 237.84642, 'MDL': 20.240156, 'MXN': 23.308415, 'LTL': 3.357695, 'HTG': 114.046113, 'SOS': 664.093312, 'MNT': 3250.399028, 'AFN': 117.979297, 'CUP': 30.134354, 'CLF': 0.035112, 'JPY': 130.89458, 'TRY': 15.148032, 'YER': 284.571056, 'HUF': 369.242932, 'BND': 1.535298, 'JEP': 0.857839, 'MKD': 61.922417, 'AWG': 2.046862, 'CDF': 2277.138169, 'VUV': 128.784736, 'XAF': 659.089986, 'KWD': 0.34401, 'DKK': 7.435897}\n"
     ]
    }
   ],
   "source": [
    "conn.request(\"GET\", \"/timeseries?start_date=\"+datefrom+\"&end_date=\"+dateend+\"&from=INR&to=USD\", headers=headers)\n",
    "\n",
    "res = conn.getresponse()\n",
    "data = res.read()\n",
    "\n",
    "d = json.loads(data)\n",
    "print(d[\"rates\"][datefrom])"
   ]
  },
  {
   "cell_type": "code",
   "execution_count": 3,
   "id": "2b5d00cc",
   "metadata": {},
   "outputs": [
    {
     "name": "stdout",
     "output_type": "stream",
     "text": [
      "{'ANG': 2.049808, 'SVC': 9.952132, 'CAD': 1.437255, 'XCD': 3.073193, 'MVR': 17.516294, 'HRK': 7.516973, 'AUD': 1.564485, 'MWK': 925.636767, 'XAG': 0.048844, 'MAD': 10.553142, 'PHP': 57.994806, 'NAD': 18.137898, 'GNF': 10603.881482, 'KES': 128.668442, 'MZN': 72.584422, 'BTN': 84.571125, 'MGA': 4508.782, 'AZN': 1.937662, 'XAU': 0.000622, 'RON': 4.947838, 'CHF': 1.03674, 'EGP': 17.864285, 'BSD': 1.137387, 'TWD': 31.518378, 'GGP': 0.857839, 'LVL': 0.687848, 'MMK': 2022.309337, 'WST': 2.956773, 'ILS': 3.53953, 'BHD': 0.428655, 'GBP': 0.840369, 'TZS': 2622.257729, 'SDG': 497.505305, 'LAK': 12718.971963, 'DJF': 202.093932, 'BYN': 2.908273, 'LBP': 1720.501423, 'RWF': 1154.202605, 'PEN': 4.536646, 'EUR': 1, 'ZMK': 10235.677475, 'RSD': 117.564035, 'INR': 84.733311, 'MUR': 49.57634, 'BWP': 13.373034, 'GEL': 3.519511, 'KMF': 494.516161, 'UZS': 12303.913866, 'RUB': 85.04893, 'CUC': 1.137145, 'BGN': 1.953969, 'JOD': 0.806468, 'NGN': 468.447486, 'BDT': 97.495932, 'PKR': 202.696598, 'BRL': 6.335383, 'KZT': 494.763156, 'CVE': 110.587841, 'HNL': 27.750716, 'NZD': 1.662009, 'ERN': 17.05727, 'NPR': 135.313403, 'ZMW': 18.94874, 'FKP': 0.857839, 'DZD': 157.842186, 'JMD': 175.116336, 'CRC': 730.147918, 'GMD': 59.984864, 'PLN': 4.588727, 'AMD': 546.096265, 'BMD': 1.137145, 'BZD': 2.292658, 'BBD': 2.296476, 'SBD': 9.203967, 'IDR': 16195.225126, 'ALL': 121.277018, 'IQD': 1660.232319, 'BIF': 2278.270857, 'HKD': 8.865304, 'GIP': 0.857839, 'BAM': 1.965137, 'LKR': 230.751407, 'QAR': 4.14039, 'SAR': 4.269042, 'TOP': 2.586555, 'SEK': 10.291223, 'ZAR': 18.138658, 'ARS': 116.773434, 'MYR': 4.749292, 'BYR': 22288.050307, 'KPW': 1023.430793, 'CZK': 24.871929, 'STD': 23536.614386, 'BTC': 2.380531e-05, 'ZWL': 366.160363, 'LSL': 18.137903, 'COP': 4622.871406, 'PAB': 1.137387, 'IRR': 48072.823194, 'NOK': 10.027286, 'OMR': 0.437796, 'CNY': 7.227587, 'XPF': 119.331742, 'AOA': 626.101357, 'SCR': 15.472979, 'MOP': 9.136089, 'XOF': 658.979869, 'XDR': 0.812663, 'NIO': 40.259183, 'ISK': 147.590544, 'VND': 25989.458662, 'VEF': 243156058810.97, 'UYU': 50.746114, 'USD': 1.137145, 'DOP': 65.243765, 'UGX': 4031.995186, 'BOB': 7.842413, 'UAH': 31.030458, 'TTD': 7.725487, 'KGS': 96.434255, 'SGD': 1.533612, 'TND': 3.270207, 'GHS': 6.993888, 'TMT': 3.99138, 'KHR': 4628.182274, 'ETB': 55.891143, 'PGK': 4.008481, 'TJS': 12.851765, 'AED': 4.176782, 'THB': 37.747586, 'LRD': 165.028274, 'CLP': 968.848312, 'KYD': 0.947789, 'SYP': 2857.069671, 'SRD': 23.661765, 'LYD': 5.23515, 'GTQ': 8.77767, 'SLL': 12798.57213, 'SHP': 1.566309, 'IMP': 0.857839, 'FJD': 2.41587, 'PYG': 7825.297573, 'KRW': 1351.929888, 'SZL': 18.13789, 'GYD': 237.84642, 'MDL': 20.240156, 'MXN': 23.308415, 'LTL': 3.357695, 'HTG': 114.046113, 'SOS': 664.093312, 'MNT': 3250.399028, 'AFN': 117.979297, 'CUP': 30.134354, 'CLF': 0.035112, 'JPY': 130.89458, 'TRY': 15.148032, 'YER': 284.571056, 'HUF': 369.242932, 'BND': 1.535298, 'JEP': 0.857839, 'MKD': 61.922417, 'AWG': 2.046862, 'CDF': 2277.138169, 'VUV': 128.784736, 'XAF': 659.089986, 'KWD': 0.34401, 'DKK': 7.435897}\n"
     ]
    }
   ],
   "source": [
    "import matplotlib.pyplot as plt\n",
    "visual = dict(d[\"rates\"][datefrom])\n",
    "print(visual)"
   ]
  },
  {
   "cell_type": "code",
   "execution_count": 4,
   "id": "0c3ca4c7",
   "metadata": {},
   "outputs": [
    {
     "ename": "NameError",
     "evalue": "name 'labels' is not defined",
     "output_type": "error",
     "traceback": [
      "\u001b[0;31m---------------------------------------------------------------------------\u001b[0m",
      "\u001b[0;31mNameError\u001b[0m                                 Traceback (most recent call last)",
      "\u001b[0;32m/var/folders/8r/sxcwmfcd0dv6br7260k13_th0000gp/T/ipykernel_25241/2824047961.py\u001b[0m in \u001b[0;36m<module>\u001b[0;34m\u001b[0m\n\u001b[1;32m      1\u001b[0m \u001b[0;31m# Plotting the graph\u001b[0m\u001b[0;34m\u001b[0m\u001b[0;34m\u001b[0m\u001b[0m\n\u001b[1;32m      2\u001b[0m \u001b[0mplt\u001b[0m\u001b[0;34m.\u001b[0m\u001b[0mfigure\u001b[0m\u001b[0;34m(\u001b[0m\u001b[0mfigsize\u001b[0m\u001b[0;34m=\u001b[0m\u001b[0;34m(\u001b[0m\u001b[0;36m14\u001b[0m\u001b[0;34m,\u001b[0m \u001b[0;36m8\u001b[0m\u001b[0;34m)\u001b[0m\u001b[0;34m)\u001b[0m\u001b[0;34m\u001b[0m\u001b[0;34m\u001b[0m\u001b[0m\n\u001b[0;32m----> 3\u001b[0;31m \u001b[0mplt\u001b[0m\u001b[0;34m.\u001b[0m\u001b[0mbar\u001b[0m\u001b[0;34m(\u001b[0m\u001b[0mlabels\u001b[0m\u001b[0;34m,\u001b[0m \u001b[0mvalues\u001b[0m\u001b[0;34m)\u001b[0m\u001b[0;34m\u001b[0m\u001b[0;34m\u001b[0m\u001b[0m\n\u001b[0m\u001b[1;32m      4\u001b[0m \u001b[0mplt\u001b[0m\u001b[0;34m.\u001b[0m\u001b[0mxlabel\u001b[0m\u001b[0;34m(\u001b[0m\u001b[0;34m'Currency Code'\u001b[0m\u001b[0;34m)\u001b[0m\u001b[0;34m\u001b[0m\u001b[0;34m\u001b[0m\u001b[0m\n\u001b[1;32m      5\u001b[0m \u001b[0mplt\u001b[0m\u001b[0;34m.\u001b[0m\u001b[0mylabel\u001b[0m\u001b[0;34m(\u001b[0m\u001b[0;34m'Exchange Rate'\u001b[0m\u001b[0;34m)\u001b[0m\u001b[0;34m\u001b[0m\u001b[0;34m\u001b[0m\u001b[0m\n",
      "\u001b[0;31mNameError\u001b[0m: name 'labels' is not defined"
     ]
    },
    {
     "data": {
      "text/plain": [
       "<Figure size 1400x800 with 0 Axes>"
      ]
     },
     "metadata": {},
     "output_type": "display_data"
    }
   ],
   "source": []
  },
  {
   "cell_type": "code",
   "execution_count": null,
   "id": "647abab3",
   "metadata": {},
   "outputs": [],
   "source": [
    "# Plotting the graph\n",
    "plt.figure(figsize=(14, 8))\n",
    "plt.bar(labels, values)\n",
    "plt.xlabel('Currency Code')\n",
    "plt.ylabel('Exchange Rate')\n",
    "plt.title('Exchange Rates of Different Currencies')\n",
    "plt.xticks(rotation=90)  # Rotate x-axis labels for better readability\n",
    "plt.tight_layout()\n",
    "plt.show()"
   ]
  }
 ],
 "metadata": {
  "kernelspec": {
   "display_name": "Python 3 (ipykernel)",
   "language": "python",
   "name": "python3"
  },
  "language_info": {
   "codemirror_mode": {
    "name": "ipython",
    "version": 3
   },
   "file_extension": ".py",
   "mimetype": "text/x-python",
   "name": "python",
   "nbconvert_exporter": "python",
   "pygments_lexer": "ipython3",
   "version": "3.9.13"
  }
 },
 "nbformat": 4,
 "nbformat_minor": 5
}
